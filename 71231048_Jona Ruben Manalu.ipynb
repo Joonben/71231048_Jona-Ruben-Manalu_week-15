{
 "cells": [
  {
   "cell_type": "code",
   "execution_count": 4,
   "id": "987038aa",
   "metadata": {},
   "outputs": [
    {
     "name": "stdout",
     "output_type": "stream",
     "text": [
      "17-08-1945 00:00:00 selisih 28780 hari\n",
      "11-11-1785 00:00:00 selisih 87132 hari\n",
      "08-06-1783 00:00:00 selisih 88019 hari\n",
      "02-05-1889 00:00:00 selisih 49340 hari\n",
      "01-01-2003 00:00:00 selisih 7824 hari\n"
     ]
    }
   ],
   "source": [
    "#latihan mandiri 14.1\n",
    "import re\n",
    "from datetime import datetime\n",
    "\n",
    "sekarang = datetime.now()\n",
    "\n",
    "tahun = sekarang.year\n",
    "bulan = sekarang.month\n",
    "hari = sekarang.day\n",
    "cek_1 = (f'{hari}-{bulan}-{tahun}')\n",
    "grup = re.compile(r'\\d{4}-\\d{2}-\\d{2}')\n",
    "txt = open(\"textx.txt\", \"r\")\n",
    "txt2 = txt.read()\n",
    "list_1= []\n",
    "findd = grup.findall(txt2)\n",
    "\n",
    "for x in findd:\n",
    "    v = x.split('-')\n",
    "    c = (v[2]+\"-\"+v[1]+\"-\"+v[0])\n",
    "    list_1.append(c)\n",
    "date_format = \"%d-%m-%Y\"\n",
    "cek_1 = datetime.strptime(cek_1, date_format)\n",
    "for y in list_1:\n",
    "    c = datetime.strptime(y, date_format)\n",
    "    d = cek_1 - c\n",
    "    print(f'{y} 00:00:00 selisih {d.days} hari')"
   ]
  },
  {
   "cell_type": "code",
   "execution_count": 10,
   "id": "111ada11",
   "metadata": {},
   "outputs": [
    {
     "name": "stdout",
     "output_type": "stream",
     "text": [
      "anton@mail.com: anton, password: 96frFiAY\n",
      "budi@gmail.co.id: budi, password: AKQlLZS2\n",
      "slamet@getnada.com: slamet, password: ZxAWCsrX\n",
      "matahari@tokopedia.com: matahari, password: O1I4Imhl\n",
      "71210776@ukdw.id: 71210776, password: nray5jIN\n"
     ]
    }
   ],
   "source": [
    "#latihan mandiri 14.2\n",
    "import re\n",
    "import random\n",
    "import string\n",
    "\n",
    "def generate_password(length):\n",
    "    password_characters = string.ascii_letters + string.digits\n",
    "    return ''.join(random.choice(password_characters) for i in range(length))\n",
    "\n",
    "\n",
    "pattern = re.compile(r'\\S+@\\S+')\n",
    "\n",
    "\n",
    "with open('textx.txt', 'r') as file:\n",
    "    text_content = file.read()\n",
    "\n",
    "\n",
    "matches = pattern.findall(text_content)\n",
    "\n",
    "for match in matches:\n",
    "    name_part = match.split('@')[0]\n",
    "    password = generate_password(8)\n",
    "    print(f'{match}: {name_part}, password: {password}')\n",
    "    \n",
    "    "
   ]
  }
 ],
 "metadata": {
  "kernelspec": {
   "display_name": "Python 3 (ipykernel)",
   "language": "python",
   "name": "python3"
  },
  "language_info": {
   "codemirror_mode": {
    "name": "ipython",
    "version": 3
   },
   "file_extension": ".py",
   "mimetype": "text/x-python",
   "name": "python",
   "nbconvert_exporter": "python",
   "pygments_lexer": "ipython3",
   "version": "3.11.5"
  }
 },
 "nbformat": 4,
 "nbformat_minor": 5
}
